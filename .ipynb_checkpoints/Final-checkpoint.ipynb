{
 "cells": [
  {
   "cell_type": "code",
   "execution_count": 225,
   "id": "06c4dcdc-6189-417a-a3a2-4a1a08d8543c",
   "metadata": {},
   "outputs": [],
   "source": [
    "import numpy as np\n",
    "import pandas as pd\n",
    "from sklearn.svm import SVR\n",
    "from sklearn.model_selection import train_test_split\n",
    "from sklearn.preprocessing import StandardScaler\n",
    "from sklearn.metrics import mean_squared_error\n",
    "from sklearn.metrics import mean_squared_error, r2_score"
   ]
  },
  {
   "cell_type": "code",
   "execution_count": 226,
   "id": "704a3d59-b588-418b-a47c-3c05f27e9693",
   "metadata": {},
   "outputs": [],
   "source": [
    "df=pd.read_csv(\"listings.csv\")"
   ]
  },
  {
   "cell_type": "code",
   "execution_count": 243,
   "id": "37d8a60d-759d-41bf-bcc0-38271bfb42fe",
   "metadata": {},
   "outputs": [
    {
     "data": {
      "image/png": "[encoded data removed]",
      "text/plain": [
       "<Figure size 1000x600 with 1 Axes>"
      ]
     },
     "metadata": {},
     "output_type": "display_data"
    },
    {
     "name": "stdout",
     "output_type": "stream",
     "text": [
      "count       325\n",
      "unique      117\n",
      "top       100.0\n",
      "freq         14\n",
      "Name: price, dtype: object\n"
     ]
    }
   ],
   "source": [
    "import matplotlib.pyplot as plt\n",
    "import seaborn as sns\n",
    "\n",
    "plt.figure(figsize=(10, 6))\n",
    "sns.boxplot(x=df['price'])\n",
    "plt.title('Box Plot of Price')\n",
    "\n",
    "# 设置坐标轴刻度间隔为每10个值显示一个刻度\n",
    "plt.xticks(range(0, len(df['price']), 10), rotation=45)\n",
    "plt.show()\n",
    "\n",
    "print(df['price'].describe())\n"
   ]
  },
  {
   "cell_type": "code",
   "execution_count": 228,
   "id": "eb3e1060-0840-4c20-a340-42974e8af9c7",
   "metadata": {},
   "outputs": [
    {
     "name": "stdout",
     "output_type": "stream",
     "text": [
      "Number of identified outliers: 19\n",
      "                      id                                       listing_url  \\\n",
      "12              11253948             https://www.airbnb.com/rooms/11253948   \n",
      "16              13083497             https://www.airbnb.com/rooms/13083497   \n",
      "18              14989805             https://www.airbnb.com/rooms/14989805   \n",
      "24              18341426             https://www.airbnb.com/rooms/18341426   \n",
      "29              20212108             https://www.airbnb.com/rooms/20212108   \n",
      "40              21449583             https://www.airbnb.com/rooms/21449583   \n",
      "75              39864828             https://www.airbnb.com/rooms/39864828   \n",
      "89              43955950             https://www.airbnb.com/rooms/43955950   \n",
      "163   563711706943869398   https://www.airbnb.com/rooms/563711706943869398   \n",
      "259   795541666227926706   https://www.airbnb.com/rooms/795541666227926706   \n",
      "280   831122937768017113   https://www.airbnb.com/rooms/831122937768017113   \n",
      "284   845960193409947556   https://www.airbnb.com/rooms/845960193409947556   \n",
      "324   937943638262956751   https://www.airbnb.com/rooms/937943638262956751   \n",
      "326   937966967490420635   https://www.airbnb.com/rooms/937966967490420635   \n",
      "330   938280419686165005   https://www.airbnb.com/rooms/938280419686165005   \n",
      "355   989897095065962672   https://www.airbnb.com/rooms/989897095065962672   \n",
      "358   992554549672159765   https://www.airbnb.com/rooms/992554549672159765   \n",
      "368  1014871544925070480  https://www.airbnb.com/rooms/1014871544925070480   \n",
      "386  1043698525924990350  https://www.airbnb.com/rooms/1043698525924990350   \n",
      "\n",
      "          scrape_id last_scraped       source  \\\n",
      "12   20240310234900   2024-03-11  city scrape   \n",
      "16   20240310234900   2024-03-11  city scrape   \n",
      "18   20240310234900   2024-03-11  city scrape   \n",
      "24   20240310234900   2024-03-11  city scrape   \n",
      "29   20240310234900   2024-03-11  city scrape   \n",
      "40   20240310234900   2024-03-11  city scrape   \n",
      "75   20240310234900   2024-03-10  city scrape   \n",
      "89   20240310234900   2024-03-11  city scrape   \n",
      "163  20240310234900   2024-03-11  city scrape   \n",
      "259  20240310234900   2024-03-11  city scrape   \n",
      "280  20240310234900   2024-03-11  city scrape   \n",
      "284  20240310234900   2024-03-11  city scrape   \n",
      "324  20240310234900   2024-03-11  city scrape   \n",
      "326  20240310234900   2024-03-11  city scrape   \n",
      "330  20240310234900   2024-03-11  city scrape   \n",
      "355  20240310234900   2024-03-11  city scrape   \n",
      "358  20240310234900   2024-03-11  city scrape   \n",
      "368  20240310234900   2024-03-11  city scrape   \n",
      "386  20240310234900   2024-03-11  city scrape   \n",
      "\n",
      "                                                  name  \\\n",
      "12   /Fire Place Bungalow\\ 1917 SUNY Eagle 6Beds 2B...   \n",
      "16    Pristine Cape Cod on the Creek! 4 Large Bedrooms   \n",
      "18   /Miller Colonial\\ 1946 SUNY Eagle Hill 5Bed 2B...   \n",
      "24      /Sauna Ranch 1961\\ SUNY Eagle Hill 4Beds 1Bath   \n",
      "29   A Peaceful suite 10ppl w/Yard Near Mansion and...   \n",
      "40   /zBig Blue Ranch\\ 1962 SUNY Eagle Hill 4Beds 2...   \n",
      "75      Stunning Bungalo-style Loft in downtown Albany   \n",
      "89   * Quaint home located in residential neighborh...   \n",
      "163  /Purple Potty Penthouse\\ 1928 Pine Hill 4Bed 1...   \n",
      "259               Victorian Mansion on Washington Park   \n",
      "280               Boho-Chic Cape  Conveniently Located   \n",
      "284                 Modern Cottage-Perfect for Groups!   \n",
      "324                    Whalen Suite at The Argus Hotel   \n",
      "326                        Whalen 3 at The Argus Hotel   \n",
      "330                     Carriage House The Argus Hotel   \n",
      "355            Minutes from hospitals and Universities   \n",
      "358              Beautiful large home, private parking   \n",
      "368                                       Mini Mansion   \n",
      "386                    Charming 1920s house sleeps 6-7   \n",
      "\n",
      "                                           description  \\\n",
      "12   Cute single family bungalow (1200sqft) in a co...   \n",
      "16   Immaculate two level 3000 Sq. Ft. Bright & Sun...   \n",
      "18   My place is close to University of Albany, sho...   \n",
      "24   Cute single family home in a convenient locati...   \n",
      "29   Beautiful grand room that accommodates 10 gues...   \n",
      "40   Lovely Ranch home nestled on a quiet street ne...   \n",
      "75   Located in the heart of Albany's \"Warehouse Di...   \n",
      "89   Newly renovated single family home in the hear...   \n",
      "163  Fully renovated and furnished apartment.  New ...   \n",
      "259  Located across from Washington Park in Albany,...   \n",
      "280  Enjoy a spacious yet cozy home in a quiet neig...   \n",
      "284  Enjoy our Dutch inspired cottage nestled on 1....   \n",
      "324  The Whalen King Suite is our largest suite. It...   \n",
      "326  Whalen 3 is a queen room located on the second...   \n",
      "330  The carriage house is a 3 bedroom 2 bathroom h...   \n",
      "355  Family friendly neighborhood where mom’s strol...   \n",
      "358  Charming 4 bedroom /3.5  Bathrooms , huge fami...   \n",
      "368  Modern Albany Mansion gives you the true Alban...   \n",
      "386                                                NaN   \n",
      "\n",
      "                                 neighborhood_overview  \\\n",
      "12   The super convenient area is one of the big se...   \n",
      "16   Enjoy to the fullest this immaculate Cape Cod ...   \n",
      "18   Quiet no-thru-traffic street.  The house is lo...   \n",
      "24   The super convenient area: <br /><br />On the ...   \n",
      "29   Near times Unionclose to bus Greyhound and mta...   \n",
      "40   The super convenient area is one of the big se...   \n",
      "75   This loft is 5 minutes away from the Conventio...   \n",
      "89   Tree lined streets, sidewalks, tight knit comm...   \n",
      "163                                                NaN   \n",
      "259                                                NaN   \n",
      "280  Quiet & tranquil neighborhood with no thru tra...   \n",
      "284  The cottage is located in a private wooded set...   \n",
      "324  The Argus Hotel is located directly on Washing...   \n",
      "326  The Argus Hotel is located directly on Washing...   \n",
      "330  The Argus Hotel is located directly on Washing...   \n",
      "355  Step back in time. This is a warm and  family ...   \n",
      "358                                                NaN   \n",
      "368                                                NaN   \n",
      "386  Quiet Residential street 30 minutes to Saratog...   \n",
      "\n",
      "                                           picture_url    host_id  ...  \\\n",
      "12   https://a0.muscache.com/pictures/f0e43651-0834...    4259750  ...   \n",
      "16   https://a0.muscache.com/pictures/a430d734-d978...    1364123  ...   \n",
      "18   https://a0.muscache.com/pictures/408eb58e-caa7...    4259750  ...   \n",
      "24   https://a0.muscache.com/pictures/95aa6d3d-5611...    4259750  ...   \n",
      "29   https://a0.muscache.com/pictures/28873011-4e05...   39656001  ...   \n",
      "40   https://a0.muscache.com/pictures/c6cd6cb0-9a4c...    4259750  ...   \n",
      "75   https://a0.muscache.com/pictures/prohost-api/H...   10313615  ...   \n",
      "89   https://a0.muscache.com/pictures/e668f12e-c457...  232967878  ...   \n",
      "163  https://a0.muscache.com/pictures/fc953398-4719...    4259750  ...   \n",
      "259  https://a0.muscache.com/pictures/miso/Hosting-...  493882819  ...   \n",
      "280  https://a0.muscache.com/pictures/8548103f-2d9b...  210596861  ...   \n",
      "284  https://a0.muscache.com/pictures/miso/Hosting-...  268741708  ...   \n",
      "324  https://a0.muscache.com/pictures/miso/Hosting-...  526358730  ...   \n",
      "326  https://a0.muscache.com/pictures/miso/Hosting-...  526358730  ...   \n",
      "330  https://a0.muscache.com/pictures/miso/Hosting-...  526358730  ...   \n",
      "355  https://a0.muscache.com/pictures/miso/Hosting-...  109133858  ...   \n",
      "358  https://a0.muscache.com/pictures/hosting/Hosti...  476189412  ...   \n",
      "368  https://a0.muscache.com/pictures/miso/Hosting-...  509662927  ...   \n",
      "386  https://a0.muscache.com/pictures/miso/Hosting-...   30218591  ...   \n",
      "\n",
      "    review_scores_communication review_scores_location review_scores_value  \\\n",
      "12                         4.95                   4.95                4.85   \n",
      "16                         4.86                   4.79                4.78   \n",
      "18                         4.98                   4.86                4.71   \n",
      "24                         5.00                   4.96                4.79   \n",
      "29                         5.00                   4.80                4.60   \n",
      "40                         4.88                   5.00                4.88   \n",
      "75                         4.92                   4.73                4.83   \n",
      "89                         4.93                   4.81                4.75   \n",
      "163                        5.00                   4.83                4.67   \n",
      "259                        5.00                   5.00                5.00   \n",
      "280                        4.94                   4.90                4.84   \n",
      "284                        4.96                   4.82                4.88   \n",
      "324                        5.00                   4.00                4.00   \n",
      "326                         NaN                    NaN                 NaN   \n",
      "330                        5.00                   4.60                4.80   \n",
      "355                        5.00                   5.00                5.00   \n",
      "358                        5.00                   4.67                5.00   \n",
      "368                        5.00                   5.00                4.89   \n",
      "386                         NaN                    NaN                 NaN   \n",
      "\n",
      "    license instant_bookable calculated_host_listings_count  \\\n",
      "12      NaN                f                              9   \n",
      "16      NaN                f                              1   \n",
      "18      NaN                f                              9   \n",
      "24      NaN                f                              9   \n",
      "29      NaN                f                              6   \n",
      "40      NaN                f                              9   \n",
      "75      NaN                t                              1   \n",
      "89      NaN                f                             22   \n",
      "163     NaN                f                              9   \n",
      "259     NaN                t                              6   \n",
      "280     NaN                f                              1   \n",
      "284     NaN                t                              1   \n",
      "324     NaN                t                             12   \n",
      "326     NaN                t                             12   \n",
      "330     NaN                t                             12   \n",
      "355     NaN                f                              1   \n",
      "358     NaN                f                              2   \n",
      "368     NaN                f                              1   \n",
      "386     NaN                f                              1   \n",
      "\n",
      "    calculated_host_listings_count_entire_homes  \\\n",
      "12                                            9   \n",
      "16                                            1   \n",
      "18                                            9   \n",
      "24                                            9   \n",
      "29                                            3   \n",
      "40                                            9   \n",
      "75                                            1   \n",
      "89                                           22   \n",
      "163                                           9   \n",
      "259                                           0   \n",
      "280                                           1   \n",
      "284                                           1   \n",
      "324                                           1   \n",
      "326                                           1   \n",
      "330                                           1   \n",
      "355                                           1   \n",
      "358                                           2   \n",
      "368                                           1   \n",
      "386                                           1   \n",
      "\n",
      "    calculated_host_listings_count_private_rooms  \\\n",
      "12                                             0   \n",
      "16                                             0   \n",
      "18                                             0   \n",
      "24                                             0   \n",
      "29                                             3   \n",
      "40                                             0   \n",
      "75                                             0   \n",
      "89                                             0   \n",
      "163                                            0   \n",
      "259                                            6   \n",
      "280                                            0   \n",
      "284                                            0   \n",
      "324                                           11   \n",
      "326                                           11   \n",
      "330                                           11   \n",
      "355                                            0   \n",
      "358                                            0   \n",
      "368                                            0   \n",
      "386                                            0   \n",
      "\n",
      "    calculated_host_listings_count_shared_rooms reviews_per_month  \n",
      "12                                            0              1.53  \n",
      "16                                            0              1.86  \n",
      "18                                            0              0.95  \n",
      "24                                            0              0.78  \n",
      "29                                            0              0.09  \n",
      "40                                            0              0.11  \n",
      "75                                            0              4.44  \n",
      "89                                            0              1.52  \n",
      "163                                           0              0.24  \n",
      "259                                           0              0.14  \n",
      "280                                           0              4.10  \n",
      "284                                           0              4.42  \n",
      "324                                           0              0.39  \n",
      "326                                           0               NaN  \n",
      "330                                           0              0.83  \n",
      "355                                           0              1.00  \n",
      "358                                           0              2.81  \n",
      "368                                           0              4.46  \n",
      "386                                           0               NaN  \n",
      "\n",
      "[19 rows x 75 columns]\n"
     ]
    }
   ],
   "source": [
    "df['price'] = df['price'].str.replace('$', '', regex=False)\n",
    "df['price'] = df['price'].str.replace(',', '', regex=False)\n",
    "df['price']= df['price'].astype(float)  \n",
    "Q1 = df['price'].quantile(0.25)\n",
    "Q3 = df['price'].quantile(0.75)\n",
    "IQR = Q3 - Q1\n",
    "\n",
    "lower_bound = Q1 - 1.5 * IQR\n",
    "upper_bound = Q3 + 1.5 * IQR\n",
    "\n",
    "outliers = df[(df['price'] < lower_bound) | (df['price'] > upper_bound)]\n",
    "print(\"Number of identified outliers:\", len(outliers))\n",
    "df_cleaned = df[(df['price'] >= lower_bound) & (df['price'] <= upper_bound)]\n",
    "df['price']=df['price'].astype(str)"
   ]
  },
  {
   "cell_type": "code",
   "execution_count": 229,
   "id": "5afdf271-06d7-428c-a3cb-dd0322b4dcb0",
   "metadata": {},
   "outputs": [],
   "source": [
    "#for column in df.columns:\n",
    "#    print(column)"
   ]
  },
  {
   "cell_type": "code",
   "execution_count": 230,
   "id": "8e3118d5-8856-4074-988b-060934e67501",
   "metadata": {},
   "outputs": [],
   "source": [
    "df=df.dropna(subset=['latitude','longitude','bedrooms','beds','accommodates','availability_365','review_scores_rating','number_of_reviews','property_type','amenities'])\n"
   ]
  },
  {
   "cell_type": "code",
   "execution_count": 232,
   "id": "9acf1e5b-c3b5-47ff-9f64-aeb2d71f0977",
   "metadata": {},
   "outputs": [],
   "source": [
    "property_dummies = pd.get_dummies(df['property_type'], prefix='type')\n",
    "\n",
    "# 将新的独热编码的DataFrame附加回原始DataFrame\n",
    "df = df[df.columns.drop(list(df.filter(regex='type_')))]\n",
    "\n",
    "# 重新进行独热编码\n",
    "property_dummies = pd.get_dummies(df['property_type'], prefix='type')\n",
    "\n",
    "# 将新的独热编码的DataFrame附加回原始DataFrame\n",
    "df = pd.concat([df, property_dummies], axis=1)\n",
    "\n",
    "# 打印新的列名，验证是否正确添加\n",
    "#print([col for col in df.columns if col.startswith('type_')])\n",
    "#print(df.iloc[:, -20:])"
   ]
  },
  {
   "cell_type": "code",
   "execution_count": 233,
   "id": "5aa8e8ae-59bc-46f6-9ccb-48a608bc5d21",
   "metadata": {},
   "outputs": [],
   "source": [
    "import ast\n",
    "\n",
    "# 尝试解析字符串形式的列表，如果失败则返回空列表\n",
    "def parse_list(x):\n",
    "    try:\n",
    "        return ast.literal_eval(x)\n",
    "    except:\n",
    "        return []\n",
    "\n",
    "# 应用解析函数到每一行的 amenities 列\n",
    "df['amenities'] = df['amenities'].apply(parse_list)\n"
   ]
  },
  {
   "cell_type": "code",
   "execution_count": 234,
   "id": "45912415-5fc3-40a2-beb8-53ec713e0195",
   "metadata": {},
   "outputs": [],
   "source": [
    "from sklearn.preprocessing import MultiLabelBinarizer\n",
    "# 删除所有可能已存在的以 'amenity_' 开头的列（如果之前使用的是不同的前缀，请相应调整）\n",
    "df = df[df.columns.drop(list(df.filter(regex='amenity_')))]\n",
    "\n",
    "# 初始化 MultiLabelBinarizer\n",
    "mlb = MultiLabelBinarizer()\n",
    "\n",
    "# 对设施列表进行独热编码\n",
    "amenities_encoded = mlb.fit_transform(df['amenities'])\n",
    "amenities_df = pd.DataFrame(amenities_encoded, columns=[\"amenity_\" + cls for cls in mlb.classes_])\n",
    "\n",
    "# 将编码后的DataFrame附加回原始DataFrame\n",
    "#df = pd.concat([df, amenities_df], axis=1)\n",
    "# 可以选择删除原始的 amenities 列\n",
    "#df.drop('amenities', axis=1, inplace=True)\n"
   ]
  },
  {
   "cell_type": "code",
   "execution_count": 235,
   "id": "f3d715e1-626b-4653-bc9f-57f22c6a93ca",
   "metadata": {},
   "outputs": [],
   "source": [
    "import pandas as pd\n",
    "from sklearn.model_selection import train_test_split\n",
    "\n",
    "# 定义原始特征集X和目标变量y\n",
    "X = df[['latitude', 'longitude', 'bedrooms', 'beds', 'accommodates', 'availability_365', 'review_scores_rating', 'number_of_reviews']]\n",
    "y = df['price']\n",
    "y = y.str.replace('$', '', regex=False) \n",
    "y = y.astype(float)  \n",
    "\n",
    "# 添加独热编码列到X\n",
    "type_columns = [col for col in df.columns if col.startswith('type_')]\n",
    "X = pd.concat([X, df[type_columns]], axis=1)\n",
    "#X = pd.concat([X, df[amenities_df]], axis=1)\n"
   ]
  },
  {
   "cell_type": "code",
   "execution_count": 236,
   "id": "a351292a-d29d-4c37-ade0-e0345aceade1",
   "metadata": {},
   "outputs": [],
   "source": [
    "X_train, X_test, y_train, y_test = train_test_split(X, y, test_size=0.2, random_state=42)"
   ]
  },
  {
   "cell_type": "code",
   "execution_count": 237,
   "id": "ad0d535d-b636-43c4-a83d-8a100a7f3237",
   "metadata": {},
   "outputs": [
    {
     "name": "stdout",
     "output_type": "stream",
     "text": [
      "0\n"
     ]
    }
   ],
   "source": [
    "scaler = StandardScaler()\n",
    "X_train_scaled = scaler.fit_transform(X_train)\n",
    "X_test_scaled = scaler.transform(X_test)\n",
    "print(X.isnull().sum().sum())"
   ]
  },
  {
   "cell_type": "code",
   "execution_count": 238,
   "id": "95f63ac4-7ea9-4365-882d-b40e971e56b6",
   "metadata": {},
   "outputs": [],
   "source": [
    "df=df.dropna(subset=['latitude','longitude','bedrooms','beds','accommodates','availability_365','review_scores_rating','number_of_reviews','property_type'])\n",
    "#print(df)\n",
    "#print(X.isnull().sum().sum())"
   ]
  },
  {
   "cell_type": "code",
   "execution_count": 239,
   "id": "33b9b2ee-b1a3-469b-b3b4-8cc2cc5f5869",
   "metadata": {},
   "outputs": [
    {
     "name": "stdout",
     "output_type": "stream",
     "text": [
      "Mean Squared Error: 966.625466813685\n",
      "R-squared: 0.6611722435110867\n"
     ]
    }
   ],
   "source": [
    "svr_model = SVR(kernel='poly', C=200.0, epsilon=7)\n",
    "\n",
    "# 在标准化后的训练数据上训练SVR模型\n",
    "svr_model.fit(X_train_scaled, y_train)\n",
    "\n",
    "# 使用训练好的模型对标准化后的测试数据进行预测\n",
    "y_pred = svr_model.predict(X_test_scaled)\n",
    "\n",
    "# 计算并打印模型的性能指标\n",
    "mse = mean_squared_error(y_test, y_pred)\n",
    "r2 = r2_score(y_test, y_pred)\n",
    "\n",
    "print(f\"Mean Squared Error: {mse}\")\n",
    "print(f\"R-squared: {r2}\")\n"
   ]
  },
  {
   "cell_type": "code",
   "execution_count": 240,
   "id": "6545b805-a2e6-48c7-aa1b-8f321b148b39",
   "metadata": {},
   "outputs": [
    {
     "data": {
      "image/png": "[encoded data removed]",
      "text/plain": [
       "<Figure size 1000x600 with 1 Axes>"
      ]
     },
     "metadata": {},
     "output_type": "display_data"
    }
   ],
   "source": [
    "import matplotlib.pyplot as plt\n",
    "from sklearn.datasets import make_regression\n",
    "from sklearn.model_selection import train_test_split\n",
    "from sklearn.preprocessing import StandardScaler\n",
    "from sklearn.svm import SVR\n",
    "from sklearn.metrics import mean_squared_error, r2_score\n",
    "\n",
    "plt.figure(figsize=(10, 6))\n",
    "plt.scatter(X_test_scaled[:, 0], y_test, color='blue', label='Actual data')\n",
    "plt.scatter(X_test_scaled[:, 0], y_pred, color='red', label='Predicted data')\n",
    "plt.title('SVR Predictions vs Actual Data')\n",
    "plt.xlabel('Features')\n",
    "plt.ylabel('Target')\n",
    "plt.legend()\n",
    "plt.grid(True)\n",
    "plt.show()"
   ]
  },
  {
   "cell_type": "code",
   "execution_count": 241,
   "id": "4b80e506-ab33-4b32-a2e9-885fe851460c",
   "metadata": {},
   "outputs": [
    {
     "name": "stdout",
     "output_type": "stream",
     "text": [
      "MSE: 966.625466813685\n",
      "RMSE: 31.09060094005397\n",
      "MAE: 21.97962291360141\n",
      "R-squared: 0.6611722435110867\n",
      "Explained Variance Score: 0.6646885673474803\n"
     ]
    }
   ],
   "source": [
    "from sklearn.metrics import mean_squared_error, mean_absolute_error, r2_score, explained_variance_score\n",
    "mse = mean_squared_error(y_test, y_pred)\n",
    "rmse = np.sqrt(mse)\n",
    "mae = mean_absolute_error(y_test, y_pred)\n",
    "r2 = r2_score(y_test, y_pred)\n",
    "explained_variance = explained_variance_score(y_test, y_pred)\n",
    "\n",
    "print(\"MSE:\", mse)\n",
    "print(\"RMSE:\", rmse)\n",
    "print(\"MAE:\", mae)\n",
    "print(\"R-squared:\", r2)\n",
    "print(\"Explained Variance Score:\", explained_variance)\n"
   ]
  },
  {
   "cell_type": "code",
   "execution_count": null,
   "id": "adc6a829-9b7a-4f64-a5b9-3f7da34b8c67",
   "metadata": {},
   "outputs": [],
   "source": []
  },
  {
   "cell_type": "code",
   "execution_count": null,
   "id": "46620808-7074-4055-936f-c1b3e026629f",
   "metadata": {},
   "outputs": [],
   "source": []
  },
  {
   "cell_type": "code",
   "execution_count": null,
   "id": "e046ffcf-5c35-464b-aa63-ec50579c4787",
   "metadata": {},
   "outputs": [],
   "source": []
  },
  {
   "cell_type": "code",
   "execution_count": null,
   "id": "f1005258-d630-4b20-9d13-83887be9878c",
   "metadata": {},
   "outputs": [],
   "source": []
  }
 ],
 "metadata": {
  "kernelspec": {
   "display_name": "Python 3 (ipykernel)",
   "language": "python",
   "name": "python3"
  },
  "language_info": {
   "codemirror_mode": {
    "name": "ipython",
    "version": 3
   },
   "file_extension": ".py",
   "mimetype": "text/x-python",
   "name": "python",
   "nbconvert_exporter": "python",
   "pygments_lexer": "ipython3",
   "version": "3.12.1"
  }
 },
 "nbformat": 4,
 "nbformat_minor": 5
}
